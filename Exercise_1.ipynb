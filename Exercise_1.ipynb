{
 "cells": [
  {
   "cell_type": "markdown",
   "metadata": {},
   "source": [
    "# 1.\n",
    "### Downloading and cleaning up data"
   ]
  },
  {
   "cell_type": "code",
   "execution_count": 1,
   "metadata": {},
   "outputs": [],
   "source": [
    "import pandas as pd"
   ]
  },
  {
   "cell_type": "markdown",
   "metadata": {},
   "source": [
    "#### download Covid Case data from York Region website"
   ]
  },
  {
   "cell_type": "code",
   "execution_count": 2,
   "metadata": {},
   "outputs": [],
   "source": [
    "data_url = 'https://ww4.yorkmaps.ca/COVID19/Data/YR_CaseData.csv'\n",
    "york_covid = pd.read_csv(data_url)"
   ]
  },
  {
   "cell_type": "code",
   "execution_count": 8,
   "metadata": {},
   "outputs": [
    {
     "data": {
      "text/plain": [
       "Case Count                  int64\n",
       "Gender                     object\n",
       "Age Decade                 object\n",
       "Municipality               object\n",
       "Community                  object\n",
       "Date Reported              object\n",
       "Estimated Date of Onset    object\n",
       "Acquisition                object\n",
       "Status                     object\n",
       "dtype: object"
      ]
     },
     "execution_count": 8,
     "metadata": {},
     "output_type": "execute_result"
    }
   ],
   "source": [
    "york_covid.dtypes"
   ]
  },
  {
   "cell_type": "markdown",
   "metadata": {},
   "source": [
    "### convert 'Date Reported' and 'Estimated Date on Onset' to datetime64 datatype"
   ]
  },
  {
   "cell_type": "code",
   "execution_count": 3,
   "metadata": {},
   "outputs": [],
   "source": [
    "york_covid['Date Reported'] = pd.to_datetime(york_covid['Date Reported'])\n",
    "york_covid['Estimated Date of Onset'] = pd.to_datetime(york_covid['Estimated Date of Onset'])"
   ]
  },
  {
   "cell_type": "code",
   "execution_count": 4,
   "metadata": {},
   "outputs": [
    {
     "data": {
      "text/plain": [
       "Case Count                          int64\n",
       "Gender                             object\n",
       "Age Decade                         object\n",
       "Municipality                       object\n",
       "Community                          object\n",
       "Date Reported              datetime64[ns]\n",
       "Estimated Date of Onset    datetime64[ns]\n",
       "Acquisition                        object\n",
       "Status                             object\n",
       "dtype: object"
      ]
     },
     "execution_count": 4,
     "metadata": {},
     "output_type": "execute_result"
    }
   ],
   "source": [
    "york_covid.dtypes"
   ]
  },
  {
   "cell_type": "markdown",
   "metadata": {},
   "source": [
    "### remove spaces from column headers and rename 'EstimatedDateofOnset'"
   ]
  },
  {
   "cell_type": "code",
   "execution_count": 5,
   "metadata": {},
   "outputs": [],
   "source": [
    "# remove spaces from column headers\n",
    "york_covid.columns = york_covid.columns.str.replace(' ','')"
   ]
  },
  {
   "cell_type": "code",
   "execution_count": 6,
   "metadata": {},
   "outputs": [
    {
     "data": {
      "text/html": [
       "<div>\n",
       "<style scoped>\n",
       "    .dataframe tbody tr th:only-of-type {\n",
       "        vertical-align: middle;\n",
       "    }\n",
       "\n",
       "    .dataframe tbody tr th {\n",
       "        vertical-align: top;\n",
       "    }\n",
       "\n",
       "    .dataframe thead th {\n",
       "        text-align: right;\n",
       "    }\n",
       "</style>\n",
       "<table border=\"1\" class=\"dataframe\">\n",
       "  <thead>\n",
       "    <tr style=\"text-align: right;\">\n",
       "      <th></th>\n",
       "      <th>CaseCount</th>\n",
       "      <th>Gender</th>\n",
       "      <th>AgeDecade</th>\n",
       "      <th>Municipality</th>\n",
       "      <th>Community</th>\n",
       "      <th>DateReported</th>\n",
       "      <th>EstimatedOnsetDate</th>\n",
       "      <th>Acquisition</th>\n",
       "      <th>Status</th>\n",
       "    </tr>\n",
       "  </thead>\n",
       "  <tbody>\n",
       "    <tr>\n",
       "      <th>0</th>\n",
       "      <td>24413</td>\n",
       "      <td>Female</td>\n",
       "      <td>30s</td>\n",
       "      <td>Richmond Hill</td>\n",
       "      <td>Richmond Hill</td>\n",
       "      <td>2020-02-29</td>\n",
       "      <td>2020-02-27</td>\n",
       "      <td>Travel</td>\n",
       "      <td>Resolved</td>\n",
       "    </tr>\n",
       "    <tr>\n",
       "      <th>1</th>\n",
       "      <td>24414</td>\n",
       "      <td>Female</td>\n",
       "      <td>60s</td>\n",
       "      <td>Richmond Hill</td>\n",
       "      <td>Richmond Hill</td>\n",
       "      <td>2020-03-02</td>\n",
       "      <td>2020-02-29</td>\n",
       "      <td>Travel</td>\n",
       "      <td>Resolved</td>\n",
       "    </tr>\n",
       "    <tr>\n",
       "      <th>2</th>\n",
       "      <td>24415</td>\n",
       "      <td>Female</td>\n",
       "      <td>70s</td>\n",
       "      <td>Richmond Hill</td>\n",
       "      <td>Richmond Hill</td>\n",
       "      <td>2020-03-03</td>\n",
       "      <td>2020-02-29</td>\n",
       "      <td>Travel</td>\n",
       "      <td>Resolved</td>\n",
       "    </tr>\n",
       "    <tr>\n",
       "      <th>3</th>\n",
       "      <td>24416</td>\n",
       "      <td>Male</td>\n",
       "      <td>50s</td>\n",
       "      <td>Vaughan</td>\n",
       "      <td>Maple</td>\n",
       "      <td>2020-03-04</td>\n",
       "      <td>2020-02-27</td>\n",
       "      <td>Travel</td>\n",
       "      <td>Resolved</td>\n",
       "    </tr>\n",
       "    <tr>\n",
       "      <th>4</th>\n",
       "      <td>24417</td>\n",
       "      <td>Male</td>\n",
       "      <td>40s</td>\n",
       "      <td>Richmond Hill</td>\n",
       "      <td>Richmond Hill</td>\n",
       "      <td>2020-03-04</td>\n",
       "      <td>2020-02-28</td>\n",
       "      <td>Travel</td>\n",
       "      <td>Resolved</td>\n",
       "    </tr>\n",
       "    <tr>\n",
       "      <th>...</th>\n",
       "      <td>...</td>\n",
       "      <td>...</td>\n",
       "      <td>...</td>\n",
       "      <td>...</td>\n",
       "      <td>...</td>\n",
       "      <td>...</td>\n",
       "      <td>...</td>\n",
       "      <td>...</td>\n",
       "      <td>...</td>\n",
       "    </tr>\n",
       "    <tr>\n",
       "      <th>24340</th>\n",
       "      <td>48753</td>\n",
       "      <td>Male</td>\n",
       "      <td>Under 20</td>\n",
       "      <td>Richmond Hill</td>\n",
       "      <td>Richmond Hill</td>\n",
       "      <td>2021-01-23</td>\n",
       "      <td>2021-01-21</td>\n",
       "      <td>Close Contact</td>\n",
       "      <td>Self-Isolating</td>\n",
       "    </tr>\n",
       "    <tr>\n",
       "      <th>24341</th>\n",
       "      <td>48754</td>\n",
       "      <td>Male</td>\n",
       "      <td>20s</td>\n",
       "      <td>Georgina</td>\n",
       "      <td>Georgina</td>\n",
       "      <td>2021-01-23</td>\n",
       "      <td>2021-01-21</td>\n",
       "      <td>Close Contact</td>\n",
       "      <td>Self-Isolating</td>\n",
       "    </tr>\n",
       "    <tr>\n",
       "      <th>24342</th>\n",
       "      <td>48755</td>\n",
       "      <td>Female</td>\n",
       "      <td>Under 20</td>\n",
       "      <td>Markham</td>\n",
       "      <td>Markham</td>\n",
       "      <td>2021-01-23</td>\n",
       "      <td>2021-01-22</td>\n",
       "      <td>Local Transmission</td>\n",
       "      <td>Self-Isolating</td>\n",
       "    </tr>\n",
       "    <tr>\n",
       "      <th>24343</th>\n",
       "      <td>48756</td>\n",
       "      <td>Male</td>\n",
       "      <td>30s</td>\n",
       "      <td>Vaughan</td>\n",
       "      <td>Maple</td>\n",
       "      <td>2021-01-23</td>\n",
       "      <td>2021-01-21</td>\n",
       "      <td>Under Investigation</td>\n",
       "      <td>Self-Isolating</td>\n",
       "    </tr>\n",
       "    <tr>\n",
       "      <th>24344</th>\n",
       "      <td>48757</td>\n",
       "      <td>Male</td>\n",
       "      <td>20s</td>\n",
       "      <td>Vaughan</td>\n",
       "      <td>Woodbridge</td>\n",
       "      <td>2021-01-23</td>\n",
       "      <td>2021-01-17</td>\n",
       "      <td>Local Transmission</td>\n",
       "      <td>Self-Isolating</td>\n",
       "    </tr>\n",
       "  </tbody>\n",
       "</table>\n",
       "<p>24345 rows × 9 columns</p>\n",
       "</div>"
      ],
      "text/plain": [
       "       CaseCount  Gender AgeDecade   Municipality      Community DateReported  \\\n",
       "0          24413  Female       30s  Richmond Hill  Richmond Hill   2020-02-29   \n",
       "1          24414  Female       60s  Richmond Hill  Richmond Hill   2020-03-02   \n",
       "2          24415  Female       70s  Richmond Hill  Richmond Hill   2020-03-03   \n",
       "3          24416    Male       50s        Vaughan          Maple   2020-03-04   \n",
       "4          24417    Male       40s  Richmond Hill  Richmond Hill   2020-03-04   \n",
       "...          ...     ...       ...            ...            ...          ...   \n",
       "24340      48753    Male  Under 20  Richmond Hill  Richmond Hill   2021-01-23   \n",
       "24341      48754    Male       20s       Georgina       Georgina   2021-01-23   \n",
       "24342      48755  Female  Under 20        Markham        Markham   2021-01-23   \n",
       "24343      48756    Male       30s        Vaughan          Maple   2021-01-23   \n",
       "24344      48757    Male       20s        Vaughan     Woodbridge   2021-01-23   \n",
       "\n",
       "      EstimatedOnsetDate          Acquisition          Status  \n",
       "0             2020-02-27               Travel        Resolved  \n",
       "1             2020-02-29               Travel        Resolved  \n",
       "2             2020-02-29               Travel        Resolved  \n",
       "3             2020-02-27               Travel        Resolved  \n",
       "4             2020-02-28               Travel        Resolved  \n",
       "...                  ...                  ...             ...  \n",
       "24340         2021-01-21        Close Contact  Self-Isolating  \n",
       "24341         2021-01-21        Close Contact  Self-Isolating  \n",
       "24342         2021-01-22   Local Transmission  Self-Isolating  \n",
       "24343         2021-01-21  Under Investigation  Self-Isolating  \n",
       "24344         2021-01-17   Local Transmission  Self-Isolating  \n",
       "\n",
       "[24345 rows x 9 columns]"
      ]
     },
     "execution_count": 6,
     "metadata": {},
     "output_type": "execute_result"
    }
   ],
   "source": [
    "# rename column name\n",
    "york_covid.rename(columns={'EstimatedDateofOnset':'EstimatedOnsetDate'})"
   ]
  },
  {
   "cell_type": "markdown",
   "metadata": {},
   "source": [
    "### reduce memory usage"
   ]
  },
  {
   "cell_type": "code",
   "execution_count": 7,
   "metadata": {},
   "outputs": [
    {
     "name": "stdout",
     "output_type": "stream",
     "text": [
      "<class 'pandas.core.frame.DataFrame'>\n",
      "RangeIndex: 24345 entries, 0 to 24344\n",
      "Data columns (total 9 columns):\n",
      " #   Column                Non-Null Count  Dtype         \n",
      "---  ------                --------------  -----         \n",
      " 0   CaseCount             24345 non-null  int64         \n",
      " 1   Gender                24345 non-null  object        \n",
      " 2   AgeDecade             24345 non-null  object        \n",
      " 3   Municipality          24345 non-null  object        \n",
      " 4   Community             24345 non-null  object        \n",
      " 5   DateReported          24345 non-null  datetime64[ns]\n",
      " 6   EstimatedDateofOnset  24345 non-null  datetime64[ns]\n",
      " 7   Acquisition           24345 non-null  object        \n",
      " 8   Status                24345 non-null  object        \n",
      "dtypes: datetime64[ns](2), int64(1), object(6)\n",
      "memory usage: 9.7 MB\n"
     ]
    }
   ],
   "source": [
    "york_covid.info(memory_usage='deep')"
   ]
  },
  {
   "cell_type": "markdown",
   "metadata": {},
   "source": [
    "#### reduce memory usage by converting some/all columns to categories datatype"
   ]
  },
  {
   "cell_type": "code",
   "execution_count": 8,
   "metadata": {},
   "outputs": [],
   "source": [
    "york_covid['Gender'] = york_covid['Gender'].astype('category')\n",
    "york_covid['AgeDecade'] = york_covid['AgeDecade'].astype('category')\n",
    "york_covid['Municipality'] = york_covid['Municipality'].astype('category')\n",
    "york_covid['Community'] = york_covid['Community'].astype('category')\n",
    "york_covid['DateReported'] = york_covid['DateReported'].astype('category')\n",
    "york_covid['EstimatedDateofOnset'] = york_covid['EstimatedDateofOnset'].astype('category')\n",
    "york_covid['Acquisition'] = york_covid['Acquisition'].astype('category')\n",
    "york_covid['Status'] = york_covid['Status'].astype('category')"
   ]
  },
  {
   "cell_type": "code",
   "execution_count": 9,
   "metadata": {},
   "outputs": [
    {
     "name": "stdout",
     "output_type": "stream",
     "text": [
      "<class 'pandas.core.frame.DataFrame'>\n",
      "RangeIndex: 24345 entries, 0 to 24344\n",
      "Data columns (total 9 columns):\n",
      " #   Column                Non-Null Count  Dtype   \n",
      "---  ------                --------------  -----   \n",
      " 0   CaseCount             24345 non-null  int64   \n",
      " 1   Gender                24345 non-null  category\n",
      " 2   AgeDecade             24345 non-null  category\n",
      " 3   Municipality          24345 non-null  category\n",
      " 4   Community             24345 non-null  category\n",
      " 5   DateReported          24345 non-null  category\n",
      " 6   EstimatedDateofOnset  24345 non-null  category\n",
      " 7   Acquisition           24345 non-null  category\n",
      " 8   Status                24345 non-null  category\n",
      "dtypes: category(8), int64(1)\n",
      "memory usage: 458.4 KB\n"
     ]
    }
   ],
   "source": [
    "york_covid.info(memory_usage='deep')"
   ]
  },
  {
   "cell_type": "code",
   "execution_count": 10,
   "metadata": {},
   "outputs": [
    {
     "data": {
      "text/html": [
       "<div>\n",
       "<style scoped>\n",
       "    .dataframe tbody tr th:only-of-type {\n",
       "        vertical-align: middle;\n",
       "    }\n",
       "\n",
       "    .dataframe tbody tr th {\n",
       "        vertical-align: top;\n",
       "    }\n",
       "\n",
       "    .dataframe thead th {\n",
       "        text-align: right;\n",
       "    }\n",
       "</style>\n",
       "<table border=\"1\" class=\"dataframe\">\n",
       "  <thead>\n",
       "    <tr style=\"text-align: right;\">\n",
       "      <th></th>\n",
       "      <th>CaseCount</th>\n",
       "      <th>Gender</th>\n",
       "      <th>AgeDecade</th>\n",
       "      <th>Municipality</th>\n",
       "      <th>Community</th>\n",
       "      <th>DateReported</th>\n",
       "      <th>EstimatedDateofOnset</th>\n",
       "      <th>Acquisition</th>\n",
       "      <th>Status</th>\n",
       "    </tr>\n",
       "  </thead>\n",
       "  <tbody>\n",
       "    <tr>\n",
       "      <th>0</th>\n",
       "      <td>24413</td>\n",
       "      <td>Female</td>\n",
       "      <td>30s</td>\n",
       "      <td>Richmond Hill</td>\n",
       "      <td>Richmond Hill</td>\n",
       "      <td>2020-02-29</td>\n",
       "      <td>2020-02-27</td>\n",
       "      <td>Travel</td>\n",
       "      <td>Resolved</td>\n",
       "    </tr>\n",
       "    <tr>\n",
       "      <th>1</th>\n",
       "      <td>24414</td>\n",
       "      <td>Female</td>\n",
       "      <td>60s</td>\n",
       "      <td>Richmond Hill</td>\n",
       "      <td>Richmond Hill</td>\n",
       "      <td>2020-03-02</td>\n",
       "      <td>2020-02-29</td>\n",
       "      <td>Travel</td>\n",
       "      <td>Resolved</td>\n",
       "    </tr>\n",
       "    <tr>\n",
       "      <th>2</th>\n",
       "      <td>24415</td>\n",
       "      <td>Female</td>\n",
       "      <td>70s</td>\n",
       "      <td>Richmond Hill</td>\n",
       "      <td>Richmond Hill</td>\n",
       "      <td>2020-03-03</td>\n",
       "      <td>2020-02-29</td>\n",
       "      <td>Travel</td>\n",
       "      <td>Resolved</td>\n",
       "    </tr>\n",
       "    <tr>\n",
       "      <th>3</th>\n",
       "      <td>24416</td>\n",
       "      <td>Male</td>\n",
       "      <td>50s</td>\n",
       "      <td>Vaughan</td>\n",
       "      <td>Maple</td>\n",
       "      <td>2020-03-04</td>\n",
       "      <td>2020-02-27</td>\n",
       "      <td>Travel</td>\n",
       "      <td>Resolved</td>\n",
       "    </tr>\n",
       "    <tr>\n",
       "      <th>4</th>\n",
       "      <td>24417</td>\n",
       "      <td>Male</td>\n",
       "      <td>40s</td>\n",
       "      <td>Richmond Hill</td>\n",
       "      <td>Richmond Hill</td>\n",
       "      <td>2020-03-04</td>\n",
       "      <td>2020-02-28</td>\n",
       "      <td>Travel</td>\n",
       "      <td>Resolved</td>\n",
       "    </tr>\n",
       "  </tbody>\n",
       "</table>\n",
       "</div>"
      ],
      "text/plain": [
       "   CaseCount  Gender AgeDecade   Municipality      Community DateReported  \\\n",
       "0      24413  Female       30s  Richmond Hill  Richmond Hill   2020-02-29   \n",
       "1      24414  Female       60s  Richmond Hill  Richmond Hill   2020-03-02   \n",
       "2      24415  Female       70s  Richmond Hill  Richmond Hill   2020-03-03   \n",
       "3      24416    Male       50s        Vaughan          Maple   2020-03-04   \n",
       "4      24417    Male       40s  Richmond Hill  Richmond Hill   2020-03-04   \n",
       "\n",
       "  EstimatedDateofOnset Acquisition    Status  \n",
       "0           2020-02-27      Travel  Resolved  \n",
       "1           2020-02-29      Travel  Resolved  \n",
       "2           2020-02-29      Travel  Resolved  \n",
       "3           2020-02-27      Travel  Resolved  \n",
       "4           2020-02-28      Travel  Resolved  "
      ]
     },
     "execution_count": 10,
     "metadata": {},
     "output_type": "execute_result"
    }
   ],
   "source": [
    "york_covid.head()"
   ]
  },
  {
   "cell_type": "markdown",
   "metadata": {},
   "source": [
    "### export dataframe to excel file"
   ]
  },
  {
   "cell_type": "code",
   "execution_count": 11,
   "metadata": {},
   "outputs": [],
   "source": [
    "york_covid.to_excel('yrCovidCases.xls')"
   ]
  }
 ],
 "metadata": {
  "kernelspec": {
   "display_name": "Python 3",
   "language": "python",
   "name": "python3"
  },
  "language_info": {
   "codemirror_mode": {
    "name": "ipython",
    "version": 3
   },
   "file_extension": ".py",
   "mimetype": "text/x-python",
   "name": "python",
   "nbconvert_exporter": "python",
   "pygments_lexer": "ipython3",
   "version": "3.8.5"
  }
 },
 "nbformat": 4,
 "nbformat_minor": 4
}
