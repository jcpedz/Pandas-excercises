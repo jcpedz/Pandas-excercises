{
 "cells": [
  {
   "cell_type": "code",
   "execution_count": 1,
   "metadata": {},
   "outputs": [],
   "source": [
    "import pandas as pd\n",
    "# Ontario Covid-19 data in csv\n",
    "data_url1 = 'https://bit.ly/3sVfqbF'\n",
    "data_url2 = 'https://bit.ly/39e8LRV'"
   ]
  },
  {
   "cell_type": "code",
   "execution_count": 4,
   "metadata": {},
   "outputs": [],
   "source": [
    "df = pd.read_csv(data_url1)"
   ]
  },
  {
   "cell_type": "code",
   "execution_count": 2,
   "metadata": {},
   "outputs": [],
   "source": [
    "df2=pd.read_csv(data_url2)"
   ]
  },
  {
   "cell_type": "code",
   "execution_count": null,
   "metadata": {},
   "outputs": [],
   "source": [
    "df.columns"
   ]
  },
  {
   "cell_type": "code",
   "execution_count": 6,
   "metadata": {},
   "outputs": [],
   "source": [
    "df.set_index('Date', inplace=True)"
   ]
  },
  {
   "cell_type": "markdown",
   "metadata": {},
   "source": [
    "### select multiple columns\n",
    "> `df[['Col1', 'Col2','ColN']]`"
   ]
  },
  {
   "cell_type": "code",
   "execution_count": null,
   "metadata": {},
   "outputs": [],
   "source": [
    "df[['York_Region_Public_Health_Services','Toronto_Public_Health','Peel_Public_Health']].plot(figsize=(15,8))"
   ]
  },
  {
   "cell_type": "code",
   "execution_count": null,
   "metadata": {},
   "outputs": [],
   "source": [
    "df.Total.plot(figsize=(15,8))"
   ]
  },
  {
   "cell_type": "code",
   "execution_count": null,
   "metadata": {},
   "outputs": [],
   "source": [
    "df2.columns"
   ]
  },
  {
   "cell_type": "markdown",
   "metadata": {},
   "source": [
    "### remove spaces from column headers\n",
    "> `df.columns = df.columns.str.replace(' ','_')`"
   ]
  },
  {
   "cell_type": "code",
   "execution_count": 38,
   "metadata": {},
   "outputs": [],
   "source": [
    "df2.columns = df2.columns.str.replace(' ','_')"
   ]
  },
  {
   "cell_type": "code",
   "execution_count": 39,
   "metadata": {},
   "outputs": [
    {
     "data": {
      "text/html": [
       "<div>\n",
       "<style scoped>\n",
       "    .dataframe tbody tr th:only-of-type {\n",
       "        vertical-align: middle;\n",
       "    }\n",
       "\n",
       "    .dataframe tbody tr th {\n",
       "        vertical-align: top;\n",
       "    }\n",
       "\n",
       "    .dataframe thead th {\n",
       "        text-align: right;\n",
       "    }\n",
       "</style>\n",
       "<table border=\"1\" class=\"dataframe\">\n",
       "  <thead>\n",
       "    <tr style=\"text-align: right;\">\n",
       "      <th></th>\n",
       "      <th>Reported_Date</th>\n",
       "      <th>Confirmed_Negative</th>\n",
       "      <th>Presumptive_Negative</th>\n",
       "      <th>Presumptive_Positive</th>\n",
       "      <th>Confirmed_Positive</th>\n",
       "      <th>Resolved</th>\n",
       "      <th>Deaths</th>\n",
       "      <th>Total_Cases</th>\n",
       "      <th>Total_patients_approved_for_testing_as_of_Reporting_Date</th>\n",
       "      <th>Total_tests_completed_in_the_last_day</th>\n",
       "      <th>Percent_positive_tests_in_last_day</th>\n",
       "      <th>Under_Investigation</th>\n",
       "      <th>Number_of_patients_hospitalized_with_COVID-19</th>\n",
       "      <th>Number_of_patients_in_ICU_with_COVID-19</th>\n",
       "      <th>Number_of_patients_in_ICU_on_a_ventilator_with_COVID-19</th>\n",
       "      <th>Total_Positive_LTC_Resident_Cases</th>\n",
       "      <th>Total_Positive_LTC_HCW_Cases</th>\n",
       "      <th>Total_LTC_Resident_Deaths</th>\n",
       "      <th>Total_LTC_HCW_Deaths</th>\n",
       "    </tr>\n",
       "  </thead>\n",
       "  <tbody>\n",
       "    <tr>\n",
       "      <th>0</th>\n",
       "      <td>2020-01-26</td>\n",
       "      <td>NaN</td>\n",
       "      <td>NaN</td>\n",
       "      <td>1.0</td>\n",
       "      <td>NaN</td>\n",
       "      <td>NaN</td>\n",
       "      <td>NaN</td>\n",
       "      <td>NaN</td>\n",
       "      <td>NaN</td>\n",
       "      <td>NaN</td>\n",
       "      <td>NaN</td>\n",
       "      <td>9</td>\n",
       "      <td>NaN</td>\n",
       "      <td>NaN</td>\n",
       "      <td>NaN</td>\n",
       "      <td>NaN</td>\n",
       "      <td>NaN</td>\n",
       "      <td>NaN</td>\n",
       "      <td>NaN</td>\n",
       "    </tr>\n",
       "    <tr>\n",
       "      <th>1</th>\n",
       "      <td>2020-01-27</td>\n",
       "      <td>NaN</td>\n",
       "      <td>NaN</td>\n",
       "      <td>2.0</td>\n",
       "      <td>NaN</td>\n",
       "      <td>NaN</td>\n",
       "      <td>NaN</td>\n",
       "      <td>NaN</td>\n",
       "      <td>NaN</td>\n",
       "      <td>NaN</td>\n",
       "      <td>NaN</td>\n",
       "      <td>19</td>\n",
       "      <td>NaN</td>\n",
       "      <td>NaN</td>\n",
       "      <td>NaN</td>\n",
       "      <td>NaN</td>\n",
       "      <td>NaN</td>\n",
       "      <td>NaN</td>\n",
       "      <td>NaN</td>\n",
       "    </tr>\n",
       "    <tr>\n",
       "      <th>2</th>\n",
       "      <td>2020-01-28</td>\n",
       "      <td>NaN</td>\n",
       "      <td>NaN</td>\n",
       "      <td>1.0</td>\n",
       "      <td>1.0</td>\n",
       "      <td>NaN</td>\n",
       "      <td>NaN</td>\n",
       "      <td>1.0</td>\n",
       "      <td>NaN</td>\n",
       "      <td>NaN</td>\n",
       "      <td>NaN</td>\n",
       "      <td>11</td>\n",
       "      <td>NaN</td>\n",
       "      <td>NaN</td>\n",
       "      <td>NaN</td>\n",
       "      <td>NaN</td>\n",
       "      <td>NaN</td>\n",
       "      <td>NaN</td>\n",
       "      <td>NaN</td>\n",
       "    </tr>\n",
       "    <tr>\n",
       "      <th>3</th>\n",
       "      <td>2020-01-30</td>\n",
       "      <td>NaN</td>\n",
       "      <td>NaN</td>\n",
       "      <td>0.0</td>\n",
       "      <td>2.0</td>\n",
       "      <td>NaN</td>\n",
       "      <td>NaN</td>\n",
       "      <td>2.0</td>\n",
       "      <td>NaN</td>\n",
       "      <td>NaN</td>\n",
       "      <td>NaN</td>\n",
       "      <td>27</td>\n",
       "      <td>NaN</td>\n",
       "      <td>NaN</td>\n",
       "      <td>NaN</td>\n",
       "      <td>NaN</td>\n",
       "      <td>NaN</td>\n",
       "      <td>NaN</td>\n",
       "      <td>NaN</td>\n",
       "    </tr>\n",
       "    <tr>\n",
       "      <th>4</th>\n",
       "      <td>2020-01-31</td>\n",
       "      <td>NaN</td>\n",
       "      <td>NaN</td>\n",
       "      <td>0.0</td>\n",
       "      <td>2.0</td>\n",
       "      <td>NaN</td>\n",
       "      <td>NaN</td>\n",
       "      <td>2.0</td>\n",
       "      <td>NaN</td>\n",
       "      <td>NaN</td>\n",
       "      <td>NaN</td>\n",
       "      <td>17</td>\n",
       "      <td>NaN</td>\n",
       "      <td>NaN</td>\n",
       "      <td>NaN</td>\n",
       "      <td>NaN</td>\n",
       "      <td>NaN</td>\n",
       "      <td>NaN</td>\n",
       "      <td>NaN</td>\n",
       "    </tr>\n",
       "    <tr>\n",
       "      <th>...</th>\n",
       "      <td>...</td>\n",
       "      <td>...</td>\n",
       "      <td>...</td>\n",
       "      <td>...</td>\n",
       "      <td>...</td>\n",
       "      <td>...</td>\n",
       "      <td>...</td>\n",
       "      <td>...</td>\n",
       "      <td>...</td>\n",
       "      <td>...</td>\n",
       "      <td>...</td>\n",
       "      <td>...</td>\n",
       "      <td>...</td>\n",
       "      <td>...</td>\n",
       "      <td>...</td>\n",
       "      <td>...</td>\n",
       "      <td>...</td>\n",
       "      <td>...</td>\n",
       "      <td>...</td>\n",
       "    </tr>\n",
       "    <tr>\n",
       "      <th>349</th>\n",
       "      <td>2021-01-20</td>\n",
       "      <td>NaN</td>\n",
       "      <td>NaN</td>\n",
       "      <td>NaN</td>\n",
       "      <td>26467.0</td>\n",
       "      <td>212897.0</td>\n",
       "      <td>5568.0</td>\n",
       "      <td>244932.0</td>\n",
       "      <td>9054585.0</td>\n",
       "      <td>54307.0</td>\n",
       "      <td>4.9</td>\n",
       "      <td>48963</td>\n",
       "      <td>1598.0</td>\n",
       "      <td>395.0</td>\n",
       "      <td>296.0</td>\n",
       "      <td>13549.0</td>\n",
       "      <td>5375.0</td>\n",
       "      <td>3274.0</td>\n",
       "      <td>10.0</td>\n",
       "    </tr>\n",
       "    <tr>\n",
       "      <th>350</th>\n",
       "      <td>2021-01-21</td>\n",
       "      <td>NaN</td>\n",
       "      <td>NaN</td>\n",
       "      <td>NaN</td>\n",
       "      <td>26063.0</td>\n",
       "      <td>215887.0</td>\n",
       "      <td>5614.0</td>\n",
       "      <td>247564.0</td>\n",
       "      <td>9124841.0</td>\n",
       "      <td>70256.0</td>\n",
       "      <td>4.3</td>\n",
       "      <td>52871</td>\n",
       "      <td>1533.0</td>\n",
       "      <td>388.0</td>\n",
       "      <td>293.0</td>\n",
       "      <td>13647.0</td>\n",
       "      <td>5430.0</td>\n",
       "      <td>3307.0</td>\n",
       "      <td>10.0</td>\n",
       "    </tr>\n",
       "    <tr>\n",
       "      <th>351</th>\n",
       "      <td>2021-01-22</td>\n",
       "      <td>NaN</td>\n",
       "      <td>NaN</td>\n",
       "      <td>NaN</td>\n",
       "      <td>25263.0</td>\n",
       "      <td>219262.0</td>\n",
       "      <td>5701.0</td>\n",
       "      <td>250226.0</td>\n",
       "      <td>9196591.0</td>\n",
       "      <td>71750.0</td>\n",
       "      <td>3.3</td>\n",
       "      <td>41819</td>\n",
       "      <td>1512.0</td>\n",
       "      <td>383.0</td>\n",
       "      <td>291.0</td>\n",
       "      <td>13746.0</td>\n",
       "      <td>5494.0</td>\n",
       "      <td>3350.0</td>\n",
       "      <td>10.0</td>\n",
       "    </tr>\n",
       "    <tr>\n",
       "      <th>352</th>\n",
       "      <td>2021-01-23</td>\n",
       "      <td>NaN</td>\n",
       "      <td>NaN</td>\n",
       "      <td>NaN</td>\n",
       "      <td>24545.0</td>\n",
       "      <td>222287.0</td>\n",
       "      <td>5753.0</td>\n",
       "      <td>252585.0</td>\n",
       "      <td>9260044.0</td>\n",
       "      <td>63453.0</td>\n",
       "      <td>4.5</td>\n",
       "      <td>37847</td>\n",
       "      <td>1501.0</td>\n",
       "      <td>395.0</td>\n",
       "      <td>299.0</td>\n",
       "      <td>13854.0</td>\n",
       "      <td>5556.0</td>\n",
       "      <td>3375.0</td>\n",
       "      <td>10.0</td>\n",
       "    </tr>\n",
       "    <tr>\n",
       "      <th>353</th>\n",
       "      <td>2021-01-24</td>\n",
       "      <td>NaN</td>\n",
       "      <td>NaN</td>\n",
       "      <td>NaN</td>\n",
       "      <td>24153.0</td>\n",
       "      <td>225046.0</td>\n",
       "      <td>5803.0</td>\n",
       "      <td>255002.0</td>\n",
       "      <td>9308991.0</td>\n",
       "      <td>48947.0</td>\n",
       "      <td>4.2</td>\n",
       "      <td>23995</td>\n",
       "      <td>1436.0</td>\n",
       "      <td>392.0</td>\n",
       "      <td>301.0</td>\n",
       "      <td>13996.0</td>\n",
       "      <td>5595.0</td>\n",
       "      <td>3400.0</td>\n",
       "      <td>10.0</td>\n",
       "    </tr>\n",
       "  </tbody>\n",
       "</table>\n",
       "<p>354 rows × 19 columns</p>\n",
       "</div>"
      ],
      "text/plain": [
       "    Reported_Date  Confirmed_Negative  Presumptive_Negative  \\\n",
       "0      2020-01-26                 NaN                   NaN   \n",
       "1      2020-01-27                 NaN                   NaN   \n",
       "2      2020-01-28                 NaN                   NaN   \n",
       "3      2020-01-30                 NaN                   NaN   \n",
       "4      2020-01-31                 NaN                   NaN   \n",
       "..            ...                 ...                   ...   \n",
       "349    2021-01-20                 NaN                   NaN   \n",
       "350    2021-01-21                 NaN                   NaN   \n",
       "351    2021-01-22                 NaN                   NaN   \n",
       "352    2021-01-23                 NaN                   NaN   \n",
       "353    2021-01-24                 NaN                   NaN   \n",
       "\n",
       "     Presumptive_Positive  Confirmed_Positive  Resolved  Deaths  Total_Cases  \\\n",
       "0                     1.0                 NaN       NaN     NaN          NaN   \n",
       "1                     2.0                 NaN       NaN     NaN          NaN   \n",
       "2                     1.0                 1.0       NaN     NaN          1.0   \n",
       "3                     0.0                 2.0       NaN     NaN          2.0   \n",
       "4                     0.0                 2.0       NaN     NaN          2.0   \n",
       "..                    ...                 ...       ...     ...          ...   \n",
       "349                   NaN             26467.0  212897.0  5568.0     244932.0   \n",
       "350                   NaN             26063.0  215887.0  5614.0     247564.0   \n",
       "351                   NaN             25263.0  219262.0  5701.0     250226.0   \n",
       "352                   NaN             24545.0  222287.0  5753.0     252585.0   \n",
       "353                   NaN             24153.0  225046.0  5803.0     255002.0   \n",
       "\n",
       "     Total_patients_approved_for_testing_as_of_Reporting_Date  \\\n",
       "0                                                  NaN          \n",
       "1                                                  NaN          \n",
       "2                                                  NaN          \n",
       "3                                                  NaN          \n",
       "4                                                  NaN          \n",
       "..                                                 ...          \n",
       "349                                          9054585.0          \n",
       "350                                          9124841.0          \n",
       "351                                          9196591.0          \n",
       "352                                          9260044.0          \n",
       "353                                          9308991.0          \n",
       "\n",
       "     Total_tests_completed_in_the_last_day  \\\n",
       "0                                      NaN   \n",
       "1                                      NaN   \n",
       "2                                      NaN   \n",
       "3                                      NaN   \n",
       "4                                      NaN   \n",
       "..                                     ...   \n",
       "349                                54307.0   \n",
       "350                                70256.0   \n",
       "351                                71750.0   \n",
       "352                                63453.0   \n",
       "353                                48947.0   \n",
       "\n",
       "     Percent_positive_tests_in_last_day  Under_Investigation  \\\n",
       "0                                   NaN                    9   \n",
       "1                                   NaN                   19   \n",
       "2                                   NaN                   11   \n",
       "3                                   NaN                   27   \n",
       "4                                   NaN                   17   \n",
       "..                                  ...                  ...   \n",
       "349                                 4.9                48963   \n",
       "350                                 4.3                52871   \n",
       "351                                 3.3                41819   \n",
       "352                                 4.5                37847   \n",
       "353                                 4.2                23995   \n",
       "\n",
       "     Number_of_patients_hospitalized_with_COVID-19  \\\n",
       "0                                              NaN   \n",
       "1                                              NaN   \n",
       "2                                              NaN   \n",
       "3                                              NaN   \n",
       "4                                              NaN   \n",
       "..                                             ...   \n",
       "349                                         1598.0   \n",
       "350                                         1533.0   \n",
       "351                                         1512.0   \n",
       "352                                         1501.0   \n",
       "353                                         1436.0   \n",
       "\n",
       "     Number_of_patients_in_ICU_with_COVID-19  \\\n",
       "0                                        NaN   \n",
       "1                                        NaN   \n",
       "2                                        NaN   \n",
       "3                                        NaN   \n",
       "4                                        NaN   \n",
       "..                                       ...   \n",
       "349                                    395.0   \n",
       "350                                    388.0   \n",
       "351                                    383.0   \n",
       "352                                    395.0   \n",
       "353                                    392.0   \n",
       "\n",
       "     Number_of_patients_in_ICU_on_a_ventilator_with_COVID-19  \\\n",
       "0                                                  NaN         \n",
       "1                                                  NaN         \n",
       "2                                                  NaN         \n",
       "3                                                  NaN         \n",
       "4                                                  NaN         \n",
       "..                                                 ...         \n",
       "349                                              296.0         \n",
       "350                                              293.0         \n",
       "351                                              291.0         \n",
       "352                                              299.0         \n",
       "353                                              301.0         \n",
       "\n",
       "     Total_Positive_LTC_Resident_Cases  Total_Positive_LTC_HCW_Cases  \\\n",
       "0                                  NaN                           NaN   \n",
       "1                                  NaN                           NaN   \n",
       "2                                  NaN                           NaN   \n",
       "3                                  NaN                           NaN   \n",
       "4                                  NaN                           NaN   \n",
       "..                                 ...                           ...   \n",
       "349                            13549.0                        5375.0   \n",
       "350                            13647.0                        5430.0   \n",
       "351                            13746.0                        5494.0   \n",
       "352                            13854.0                        5556.0   \n",
       "353                            13996.0                        5595.0   \n",
       "\n",
       "     Total_LTC_Resident_Deaths  Total_LTC_HCW_Deaths  \n",
       "0                          NaN                   NaN  \n",
       "1                          NaN                   NaN  \n",
       "2                          NaN                   NaN  \n",
       "3                          NaN                   NaN  \n",
       "4                          NaN                   NaN  \n",
       "..                         ...                   ...  \n",
       "349                     3274.0                  10.0  \n",
       "350                     3307.0                  10.0  \n",
       "351                     3350.0                  10.0  \n",
       "352                     3375.0                  10.0  \n",
       "353                     3400.0                  10.0  \n",
       "\n",
       "[354 rows x 19 columns]"
      ]
     },
     "execution_count": 39,
     "metadata": {},
     "output_type": "execute_result"
    }
   ],
   "source": [
    "df2"
   ]
  },
  {
   "cell_type": "code",
   "execution_count": 41,
   "metadata": {},
   "outputs": [
    {
     "data": {
      "text/plain": [
       "Index(['Reported_Date', 'Confirmed_Negative', 'Presumptive_Negative',\n",
       "       'Presumptive_Positive', 'Confirmed_Positive', 'Resolved', 'Deaths',\n",
       "       'Total_Cases',\n",
       "       'Total_patients_approved_for_testing_as_of_Reporting_Date',\n",
       "       'Total_tests_completed_in_the_last_day',\n",
       "       'Percent_positive_tests_in_last_day', 'Under_Investigation',\n",
       "       'Number_of_patients_hospitalized_with_COVID-19',\n",
       "       'Number_of_patients_in_ICU_with_COVID-19',\n",
       "       'Number_of_patients_in_ICU_on_a_ventilator_with_COVID-19',\n",
       "       'Total_Positive_LTC_Resident_Cases', 'Total_Positive_LTC_HCW_Cases',\n",
       "       'Total_LTC_Resident_Deaths', 'Total_LTC_HCW_Deaths'],\n",
       "      dtype='object')"
      ]
     },
     "execution_count": 41,
     "metadata": {},
     "output_type": "execute_result"
    }
   ],
   "source": [
    "df2.columns"
   ]
  },
  {
   "cell_type": "markdown",
   "metadata": {},
   "source": [
    "### remove unnecessary columns\n",
    "\n",
    "> `df.drop(columns=['Col1','Col2','ColN'], inplace=True)`"
   ]
  },
  {
   "cell_type": "code",
   "execution_count": 43,
   "metadata": {},
   "outputs": [],
   "source": [
    "df2.drop(columns=['Presumptive_Negative','Presumptive_Positive','Total_patients_approved_for_testing_as_of_Reporting_Date',\n",
    "       'Total_tests_completed_in_the_last_day',\n",
    "       'Percent_positive_tests_in_last_day'], inplace=True)"
   ]
  },
  {
   "cell_type": "code",
   "execution_count": 44,
   "metadata": {},
   "outputs": [
    {
     "data": {
      "text/plain": [
       "Index(['Reported_Date', 'Confirmed_Negative', 'Confirmed_Positive', 'Resolved',\n",
       "       'Deaths', 'Total_Cases', 'Under_Investigation',\n",
       "       'Number_of_patients_hospitalized_with_COVID-19',\n",
       "       'Number_of_patients_in_ICU_with_COVID-19',\n",
       "       'Number_of_patients_in_ICU_on_a_ventilator_with_COVID-19',\n",
       "       'Total_Positive_LTC_Resident_Cases', 'Total_Positive_LTC_HCW_Cases',\n",
       "       'Total_LTC_Resident_Deaths', 'Total_LTC_HCW_Deaths'],\n",
       "      dtype='object')"
      ]
     },
     "execution_count": 44,
     "metadata": {},
     "output_type": "execute_result"
    }
   ],
   "source": [
    "df2.columns"
   ]
  },
  {
   "cell_type": "markdown",
   "metadata": {},
   "source": [
    "### rename long column header name\n",
    "> `df.rename(columns={'old_name1':'new_name1','old_name2':'new_name2'}, inplace=True)`"
   ]
  },
  {
   "cell_type": "code",
   "execution_count": 46,
   "metadata": {},
   "outputs": [],
   "source": [
    "df2.rename(columns={'Number_of_patients_hospitalized_with_COVID-19':'Hospitalized',\n",
    "                    'Number_of_patients_in_ICU_with_COVID-19':'In_ICU',\n",
    "                    'Number_of_patients_in_ICU_on_a_ventilator_with_COVID-19':'On_Ventilator',\n",
    "                    'Total_Positive_LTC_Resident_Cases':'LTC_Cases', 'Total_Positive_LTC_HCW_Cases':'LTC_HCW',\n",
    "                    'Total_LTC_Resident_Deaths':'LTC_Deaths', 'Total_LTC_HCW_Deaths':'LTC_HCW_Deaths'}, inplace=True)"
   ]
  },
  {
   "cell_type": "code",
   "execution_count": 51,
   "metadata": {},
   "outputs": [],
   "source": [
    "df2.fillna(0, inplace=True)"
   ]
  },
  {
   "cell_type": "code",
   "execution_count": 71,
   "metadata": {},
   "outputs": [],
   "source": [
    "df2.set_index('Reported_Date',inplace=True) "
   ]
  },
  {
   "cell_type": "code",
   "execution_count": 81,
   "metadata": {},
   "outputs": [],
   "source": [
    "df2.drop(columns=('index'), inplace=True)"
   ]
  },
  {
   "cell_type": "code",
   "execution_count": 88,
   "metadata": {},
   "outputs": [
    {
     "data": {
      "text/plain": [
       "Index(['Confirmed_Negative', 'Confirmed_Positive', 'Resolved', 'Deaths',\n",
       "       'Total_Cases', 'Under_Investigation', 'Hospitalized', 'In_ICU',\n",
       "       'On_Ventilator', 'LTC_Cases', 'LTC_HCW', 'LTC_Deaths',\n",
       "       'LTC_HCW_Deaths'],\n",
       "      dtype='object')"
      ]
     },
     "execution_count": 88,
     "metadata": {},
     "output_type": "execute_result"
    }
   ],
   "source": [
    "df2.columns"
   ]
  },
  {
   "cell_type": "markdown",
   "metadata": {},
   "source": [
    "### Convert data type of multiple columns\n",
    "> `df = df.astype({'Col1':'datatype','Col2':'datatype','ColN':'datatype'})`"
   ]
  },
  {
   "cell_type": "code",
   "execution_count": null,
   "metadata": {},
   "outputs": [],
   "source": []
  },
  {
   "cell_type": "markdown",
   "metadata": {},
   "source": [
    "### Create a datetime column from a subset of columns\n",
    "> `pd.to_dateime(df[['monthCol', 'dayCol','yearCol']])`"
   ]
  },
  {
   "cell_type": "code",
   "execution_count": null,
   "metadata": {},
   "outputs": [],
   "source": []
  },
  {
   "cell_type": "markdown",
   "metadata": {},
   "source": [
    "### Apply multiple aggregations on a DataFrame\n",
    "> `df.groupby('Column').'Column2'.agg(['mean','min','max])`\n",
    "\n",
    "**Series** \n",
    "> `df.Column.agg(['mean','min','max])`\n",
    "\n",
    "**DataFrame**\n",
    "> `df.agg(['mean','min','max])`"
   ]
  },
  {
   "cell_type": "code",
   "execution_count": null,
   "metadata": {},
   "outputs": [],
   "source": []
  },
  {
   "cell_type": "code",
   "execution_count": null,
   "metadata": {},
   "outputs": [],
   "source": []
  }
 ],
 "metadata": {
  "kernelspec": {
   "display_name": "Python 3",
   "language": "python",
   "name": "python3"
  },
  "language_info": {
   "codemirror_mode": {
    "name": "ipython",
    "version": 3
   },
   "file_extension": ".py",
   "mimetype": "text/x-python",
   "name": "python",
   "nbconvert_exporter": "python",
   "pygments_lexer": "ipython3",
   "version": "3.8.5"
  }
 },
 "nbformat": 4,
 "nbformat_minor": 4
}
