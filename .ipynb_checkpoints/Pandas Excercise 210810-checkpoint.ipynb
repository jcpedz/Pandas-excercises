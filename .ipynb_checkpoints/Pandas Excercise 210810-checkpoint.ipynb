{
 "cells": [
  {
   "cell_type": "code",
   "execution_count": 114,
   "id": "d2c3e719",
   "metadata": {},
   "outputs": [],
   "source": [
    "import pandas as pd\n",
    "import numpy as np\n",
    "\n",
    "file = 'D:/github/media/NationalStoreList.xlsm'\n",
    "\n",
    "df = pd.read_excel(file, sheet_name=3)"
   ]
  },
  {
   "cell_type": "markdown",
   "id": "c17672e7",
   "metadata": {},
   "source": [
    "\n",
    "### Rename columns"
   ]
  },
  {
   "cell_type": "code",
   "execution_count": 115,
   "id": "f56de942",
   "metadata": {},
   "outputs": [],
   "source": [
    "df.rename(columns={'Unnamed: 8':'Store #', 'Unnamed: 9':'Store Name', 'Unnamed: 10':'Address', 'Unnamed: 11':'City', 'Unnamed: 12':'Prov'}, inplace=True)"
   ]
  },
  {
   "cell_type": "markdown",
   "id": "98d9395b",
   "metadata": {},
   "source": [
    "\n",
    "### Remove unnecessary columns"
   ]
  },
  {
   "cell_type": "code",
   "execution_count": 116,
   "id": "db501d18",
   "metadata": {},
   "outputs": [],
   "source": [
    "df.drop(df.iloc[:,0:8], inplace=True, axis = 1)\n",
    "\n",
    "df.drop(df.iloc[:,5:], axis = 1, inplace=True)"
   ]
  },
  {
   "cell_type": "markdown",
   "id": "6e6eb343",
   "metadata": {},
   "source": [
    "### Remove top 2 rows"
   ]
  },
  {
   "cell_type": "code",
   "execution_count": 117,
   "id": "44ec95fe",
   "metadata": {},
   "outputs": [],
   "source": [
    "df.drop(df.index[[0,1]], inplace=True)"
   ]
  },
  {
   "cell_type": "markdown",
   "id": "e46106ae",
   "metadata": {},
   "source": [
    "\n",
    "### Reset index"
   ]
  },
  {
   "cell_type": "code",
   "execution_count": 119,
   "id": "05e4de9c",
   "metadata": {},
   "outputs": [],
   "source": [
    "df.reset_index(drop=True, inplace=True)"
   ]
  },
  {
   "cell_type": "markdown",
   "id": "2e2753b0",
   "metadata": {},
   "source": [
    "#### Set index to start at 1"
   ]
  },
  {
   "cell_type": "code",
   "execution_count": 129,
   "id": "21159bee",
   "metadata": {},
   "outputs": [],
   "source": [
    "df.index = np.arange(1, len(df)+1)"
   ]
  },
  {
   "cell_type": "markdown",
   "id": "62b8436c",
   "metadata": {},
   "source": [
    "\n",
    "### Save to new dataframe"
   ]
  },
  {
   "cell_type": "code",
   "execution_count": 132,
   "id": "18b27633",
   "metadata": {},
   "outputs": [],
   "source": [
    "df=pd.DataFrame(df)"
   ]
  },
  {
   "cell_type": "code",
   "execution_count": 133,
   "id": "d53b8cc7",
   "metadata": {},
   "outputs": [],
   "source": [
    "df.to_excel('D:/github/media/NationalStoreList.xlsx', sheet_name='Store List')"
   ]
  },
  {
   "cell_type": "code",
   "execution_count": null,
   "id": "874518e9",
   "metadata": {},
   "outputs": [],
   "source": []
  }
 ],
 "metadata": {
  "kernelspec": {
   "display_name": "Python 3",
   "language": "python",
   "name": "python3"
  },
  "language_info": {
   "codemirror_mode": {
    "name": "ipython",
    "version": 3
   },
   "file_extension": ".py",
   "mimetype": "text/x-python",
   "name": "python",
   "nbconvert_exporter": "python",
   "pygments_lexer": "ipython3",
   "version": "3.8.8"
  }
 },
 "nbformat": 4,
 "nbformat_minor": 5
}
