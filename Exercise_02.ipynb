{
 "cells": [
  {
   "cell_type": "code",
   "execution_count": 1,
   "metadata": {},
   "outputs": [],
   "source": [
    "import pandas as pd"
   ]
  },
  {
   "cell_type": "code",
   "execution_count": 7,
   "metadata": {},
   "outputs": [],
   "source": [
    "# df = pd.read_csv('https://bit.ly/3sTOUz5')\n",
    "df = pd.read_excel('https://bit.ly/3sVdlfw')"
   ]
  },
  {
   "cell_type": "code",
   "execution_count": 10,
   "metadata": {},
   "outputs": [
    {
     "name": "stdout",
     "output_type": "stream",
     "text": [
      "<class 'pandas.core.frame.DataFrame'>\n",
      "RangeIndex: 24345 entries, 0 to 24344\n",
      "Data columns (total 10 columns):\n",
      " #   Column                Non-Null Count  Dtype         \n",
      "---  ------                --------------  -----         \n",
      " 0   Unnamed: 0            24345 non-null  int64         \n",
      " 1   CaseCount             24345 non-null  int64         \n",
      " 2   Gender                24345 non-null  object        \n",
      " 3   AgeDecade             24345 non-null  object        \n",
      " 4   Municipality          24345 non-null  object        \n",
      " 5   Community             24345 non-null  object        \n",
      " 6   DateReported          24345 non-null  datetime64[ns]\n",
      " 7   EstimatedDateofOnset  24345 non-null  datetime64[ns]\n",
      " 8   Acquisition           24345 non-null  object        \n",
      " 9   Status                24345 non-null  object        \n",
      "dtypes: datetime64[ns](2), int64(2), object(6)\n",
      "memory usage: 9.9 MB\n"
     ]
    }
   ],
   "source": [
    "df.info(memory_usage='deep')"
   ]
  }
 ],
 "metadata": {
  "kernelspec": {
   "display_name": "Python 3",
   "language": "python",
   "name": "python3"
  },
  "language_info": {
   "codemirror_mode": {
    "name": "ipython",
    "version": 3
   },
   "file_extension": ".py",
   "mimetype": "text/x-python",
   "name": "python",
   "nbconvert_exporter": "python",
   "pygments_lexer": "ipython3",
   "version": "3.8.5"
  }
 },
 "nbformat": 4,
 "nbformat_minor": 4
}
