{
 "cells": [
  {
   "cell_type": "markdown",
   "metadata": {},
   "source": [
    "# 2.\n",
    "## Delete column(s), set dataframe header as index, groupby()"
   ]
  },
  {
   "cell_type": "code",
   "execution_count": 2,
   "metadata": {},
   "outputs": [],
   "source": [
    "import pandas as pd"
   ]
  },
  {
   "cell_type": "code",
   "execution_count": 3,
   "metadata": {},
   "outputs": [],
   "source": [
    "# df = pd.read_csv('https://bit.ly/3sTOUz5')\n",
    "df = pd.read_excel('https://bit.ly/3sVdlfw')"
   ]
  },
  {
   "cell_type": "code",
   "execution_count": 4,
   "metadata": {},
   "outputs": [
    {
     "name": "stdout",
     "output_type": "stream",
     "text": [
      "<class 'pandas.core.frame.DataFrame'>\n",
      "RangeIndex: 24345 entries, 0 to 24344\n",
      "Data columns (total 10 columns):\n",
      " #   Column                Non-Null Count  Dtype         \n",
      "---  ------                --------------  -----         \n",
      " 0   Unnamed: 0            24345 non-null  int64         \n",
      " 1   CaseCount             24345 non-null  int64         \n",
      " 2   Gender                24345 non-null  object        \n",
      " 3   AgeDecade             24345 non-null  object        \n",
      " 4   Municipality          24345 non-null  object        \n",
      " 5   Community             24345 non-null  object        \n",
      " 6   DateReported          24345 non-null  datetime64[ns]\n",
      " 7   EstimatedDateofOnset  24345 non-null  datetime64[ns]\n",
      " 8   Acquisition           24345 non-null  object        \n",
      " 9   Status                24345 non-null  object        \n",
      "dtypes: datetime64[ns](2), int64(2), object(6)\n",
      "memory usage: 9.9 MB\n"
     ]
    }
   ],
   "source": [
    "df.info(memory_usage='deep')"
   ]
  },
  {
   "cell_type": "code",
   "execution_count": 5,
   "metadata": {},
   "outputs": [],
   "source": [
    "# change data in 'AgeDecade' and convert type to numeric\n",
    "old_data = ['100s','90s','80s','70s','60s','50s','40s','30s','20s','Under 20']\n",
    "new_data = ['100','90','80','70','60','50','40','30','20','10']\n",
    "df['AgeDecade'] = df['AgeDecade'].replace(old_data,new_data)\n",
    "df['AgeDecade'] = pd.to_numeric(df['AgeDecade'])"
   ]
  },
  {
   "cell_type": "code",
   "execution_count": 6,
   "metadata": {},
   "outputs": [
    {
     "data": {
      "text/plain": [
       "0    30\n",
       "1    60\n",
       "2    70\n",
       "3    50\n",
       "4    40\n",
       "Name: AgeDecade, dtype: int64"
      ]
     },
     "execution_count": 6,
     "metadata": {},
     "output_type": "execute_result"
    }
   ],
   "source": [
    "df.AgeDecade.head()"
   ]
  },
  {
   "cell_type": "code",
   "execution_count": 7,
   "metadata": {},
   "outputs": [
    {
     "data": {
      "text/html": [
       "<div>\n",
       "<style scoped>\n",
       "    .dataframe tbody tr th:only-of-type {\n",
       "        vertical-align: middle;\n",
       "    }\n",
       "\n",
       "    .dataframe tbody tr th {\n",
       "        vertical-align: top;\n",
       "    }\n",
       "\n",
       "    .dataframe thead th {\n",
       "        text-align: right;\n",
       "    }\n",
       "</style>\n",
       "<table border=\"1\" class=\"dataframe\">\n",
       "  <thead>\n",
       "    <tr style=\"text-align: right;\">\n",
       "      <th></th>\n",
       "      <th>Unnamed: 0</th>\n",
       "      <th>CaseCount</th>\n",
       "      <th>Gender</th>\n",
       "      <th>AgeDecade</th>\n",
       "      <th>Municipality</th>\n",
       "      <th>Community</th>\n",
       "      <th>DateReported</th>\n",
       "      <th>EstimatedDateofOnset</th>\n",
       "      <th>Acquisition</th>\n",
       "      <th>Status</th>\n",
       "    </tr>\n",
       "  </thead>\n",
       "  <tbody>\n",
       "    <tr>\n",
       "      <th>0</th>\n",
       "      <td>0</td>\n",
       "      <td>24413</td>\n",
       "      <td>Female</td>\n",
       "      <td>30</td>\n",
       "      <td>Richmond Hill</td>\n",
       "      <td>Richmond Hill</td>\n",
       "      <td>2020-02-29</td>\n",
       "      <td>2020-02-27</td>\n",
       "      <td>Travel</td>\n",
       "      <td>Resolved</td>\n",
       "    </tr>\n",
       "    <tr>\n",
       "      <th>1</th>\n",
       "      <td>1</td>\n",
       "      <td>24414</td>\n",
       "      <td>Female</td>\n",
       "      <td>60</td>\n",
       "      <td>Richmond Hill</td>\n",
       "      <td>Richmond Hill</td>\n",
       "      <td>2020-03-02</td>\n",
       "      <td>2020-02-29</td>\n",
       "      <td>Travel</td>\n",
       "      <td>Resolved</td>\n",
       "    </tr>\n",
       "    <tr>\n",
       "      <th>2</th>\n",
       "      <td>2</td>\n",
       "      <td>24415</td>\n",
       "      <td>Female</td>\n",
       "      <td>70</td>\n",
       "      <td>Richmond Hill</td>\n",
       "      <td>Richmond Hill</td>\n",
       "      <td>2020-03-03</td>\n",
       "      <td>2020-02-29</td>\n",
       "      <td>Travel</td>\n",
       "      <td>Resolved</td>\n",
       "    </tr>\n",
       "    <tr>\n",
       "      <th>3</th>\n",
       "      <td>3</td>\n",
       "      <td>24416</td>\n",
       "      <td>Male</td>\n",
       "      <td>50</td>\n",
       "      <td>Vaughan</td>\n",
       "      <td>Maple</td>\n",
       "      <td>2020-03-04</td>\n",
       "      <td>2020-02-27</td>\n",
       "      <td>Travel</td>\n",
       "      <td>Resolved</td>\n",
       "    </tr>\n",
       "    <tr>\n",
       "      <th>4</th>\n",
       "      <td>4</td>\n",
       "      <td>24417</td>\n",
       "      <td>Male</td>\n",
       "      <td>40</td>\n",
       "      <td>Richmond Hill</td>\n",
       "      <td>Richmond Hill</td>\n",
       "      <td>2020-03-04</td>\n",
       "      <td>2020-02-28</td>\n",
       "      <td>Travel</td>\n",
       "      <td>Resolved</td>\n",
       "    </tr>\n",
       "  </tbody>\n",
       "</table>\n",
       "</div>"
      ],
      "text/plain": [
       "   Unnamed: 0  CaseCount  Gender  AgeDecade   Municipality      Community  \\\n",
       "0           0      24413  Female         30  Richmond Hill  Richmond Hill   \n",
       "1           1      24414  Female         60  Richmond Hill  Richmond Hill   \n",
       "2           2      24415  Female         70  Richmond Hill  Richmond Hill   \n",
       "3           3      24416    Male         50        Vaughan          Maple   \n",
       "4           4      24417    Male         40  Richmond Hill  Richmond Hill   \n",
       "\n",
       "  DateReported EstimatedDateofOnset Acquisition    Status  \n",
       "0   2020-02-29           2020-02-27      Travel  Resolved  \n",
       "1   2020-03-02           2020-02-29      Travel  Resolved  \n",
       "2   2020-03-03           2020-02-29      Travel  Resolved  \n",
       "3   2020-03-04           2020-02-27      Travel  Resolved  \n",
       "4   2020-03-04           2020-02-28      Travel  Resolved  "
      ]
     },
     "execution_count": 7,
     "metadata": {},
     "output_type": "execute_result"
    }
   ],
   "source": [
    "df.head()"
   ]
  },
  {
   "cell_type": "markdown",
   "metadata": {},
   "source": [
    "### delete column"
   ]
  },
  {
   "cell_type": "code",
   "execution_count": 15,
   "metadata": {},
   "outputs": [],
   "source": [
    "df.drop(columns=['Unnamed: 0'], inplace=True)"
   ]
  },
  {
   "cell_type": "code",
   "execution_count": 16,
   "metadata": {},
   "outputs": [
    {
     "data": {
      "text/html": [
       "<div>\n",
       "<style scoped>\n",
       "    .dataframe tbody tr th:only-of-type {\n",
       "        vertical-align: middle;\n",
       "    }\n",
       "\n",
       "    .dataframe tbody tr th {\n",
       "        vertical-align: top;\n",
       "    }\n",
       "\n",
       "    .dataframe thead th {\n",
       "        text-align: right;\n",
       "    }\n",
       "</style>\n",
       "<table border=\"1\" class=\"dataframe\">\n",
       "  <thead>\n",
       "    <tr style=\"text-align: right;\">\n",
       "      <th></th>\n",
       "      <th>CaseCount</th>\n",
       "      <th>Gender</th>\n",
       "      <th>AgeDecade</th>\n",
       "      <th>Municipality</th>\n",
       "      <th>Community</th>\n",
       "      <th>DateReported</th>\n",
       "      <th>EstimatedDateofOnset</th>\n",
       "      <th>Acquisition</th>\n",
       "      <th>Status</th>\n",
       "    </tr>\n",
       "  </thead>\n",
       "  <tbody>\n",
       "    <tr>\n",
       "      <th>0</th>\n",
       "      <td>24413</td>\n",
       "      <td>Female</td>\n",
       "      <td>30</td>\n",
       "      <td>Richmond Hill</td>\n",
       "      <td>Richmond Hill</td>\n",
       "      <td>2020-02-29</td>\n",
       "      <td>2020-02-27</td>\n",
       "      <td>Travel</td>\n",
       "      <td>Resolved</td>\n",
       "    </tr>\n",
       "    <tr>\n",
       "      <th>1</th>\n",
       "      <td>24414</td>\n",
       "      <td>Female</td>\n",
       "      <td>60</td>\n",
       "      <td>Richmond Hill</td>\n",
       "      <td>Richmond Hill</td>\n",
       "      <td>2020-03-02</td>\n",
       "      <td>2020-02-29</td>\n",
       "      <td>Travel</td>\n",
       "      <td>Resolved</td>\n",
       "    </tr>\n",
       "    <tr>\n",
       "      <th>2</th>\n",
       "      <td>24415</td>\n",
       "      <td>Female</td>\n",
       "      <td>70</td>\n",
       "      <td>Richmond Hill</td>\n",
       "      <td>Richmond Hill</td>\n",
       "      <td>2020-03-03</td>\n",
       "      <td>2020-02-29</td>\n",
       "      <td>Travel</td>\n",
       "      <td>Resolved</td>\n",
       "    </tr>\n",
       "    <tr>\n",
       "      <th>3</th>\n",
       "      <td>24416</td>\n",
       "      <td>Male</td>\n",
       "      <td>50</td>\n",
       "      <td>Vaughan</td>\n",
       "      <td>Maple</td>\n",
       "      <td>2020-03-04</td>\n",
       "      <td>2020-02-27</td>\n",
       "      <td>Travel</td>\n",
       "      <td>Resolved</td>\n",
       "    </tr>\n",
       "    <tr>\n",
       "      <th>4</th>\n",
       "      <td>24417</td>\n",
       "      <td>Male</td>\n",
       "      <td>40</td>\n",
       "      <td>Richmond Hill</td>\n",
       "      <td>Richmond Hill</td>\n",
       "      <td>2020-03-04</td>\n",
       "      <td>2020-02-28</td>\n",
       "      <td>Travel</td>\n",
       "      <td>Resolved</td>\n",
       "    </tr>\n",
       "  </tbody>\n",
       "</table>\n",
       "</div>"
      ],
      "text/plain": [
       "   CaseCount  Gender  AgeDecade   Municipality      Community DateReported  \\\n",
       "0      24413  Female         30  Richmond Hill  Richmond Hill   2020-02-29   \n",
       "1      24414  Female         60  Richmond Hill  Richmond Hill   2020-03-02   \n",
       "2      24415  Female         70  Richmond Hill  Richmond Hill   2020-03-03   \n",
       "3      24416    Male         50        Vaughan          Maple   2020-03-04   \n",
       "4      24417    Male         40  Richmond Hill  Richmond Hill   2020-03-04   \n",
       "\n",
       "  EstimatedDateofOnset Acquisition    Status  \n",
       "0           2020-02-27      Travel  Resolved  \n",
       "1           2020-02-29      Travel  Resolved  \n",
       "2           2020-02-29      Travel  Resolved  \n",
       "3           2020-02-27      Travel  Resolved  \n",
       "4           2020-02-28      Travel  Resolved  "
      ]
     },
     "execution_count": 16,
     "metadata": {},
     "output_type": "execute_result"
    }
   ],
   "source": [
    "df.head()"
   ]
  },
  {
   "cell_type": "markdown",
   "metadata": {},
   "source": [
    "### set DateReported as index"
   ]
  },
  {
   "cell_type": "code",
   "execution_count": 17,
   "metadata": {},
   "outputs": [],
   "source": [
    "df.set_index('DateReported', inplace=True)"
   ]
  },
  {
   "cell_type": "code",
   "execution_count": 18,
   "metadata": {},
   "outputs": [
    {
     "data": {
      "text/html": [
       "<div>\n",
       "<style scoped>\n",
       "    .dataframe tbody tr th:only-of-type {\n",
       "        vertical-align: middle;\n",
       "    }\n",
       "\n",
       "    .dataframe tbody tr th {\n",
       "        vertical-align: top;\n",
       "    }\n",
       "\n",
       "    .dataframe thead th {\n",
       "        text-align: right;\n",
       "    }\n",
       "</style>\n",
       "<table border=\"1\" class=\"dataframe\">\n",
       "  <thead>\n",
       "    <tr style=\"text-align: right;\">\n",
       "      <th></th>\n",
       "      <th>CaseCount</th>\n",
       "      <th>Gender</th>\n",
       "      <th>AgeDecade</th>\n",
       "      <th>Municipality</th>\n",
       "      <th>Community</th>\n",
       "      <th>EstimatedDateofOnset</th>\n",
       "      <th>Acquisition</th>\n",
       "      <th>Status</th>\n",
       "    </tr>\n",
       "    <tr>\n",
       "      <th>DateReported</th>\n",
       "      <th></th>\n",
       "      <th></th>\n",
       "      <th></th>\n",
       "      <th></th>\n",
       "      <th></th>\n",
       "      <th></th>\n",
       "      <th></th>\n",
       "      <th></th>\n",
       "    </tr>\n",
       "  </thead>\n",
       "  <tbody>\n",
       "    <tr>\n",
       "      <th>2020-02-29</th>\n",
       "      <td>24413</td>\n",
       "      <td>Female</td>\n",
       "      <td>30</td>\n",
       "      <td>Richmond Hill</td>\n",
       "      <td>Richmond Hill</td>\n",
       "      <td>2020-02-27</td>\n",
       "      <td>Travel</td>\n",
       "      <td>Resolved</td>\n",
       "    </tr>\n",
       "    <tr>\n",
       "      <th>2020-03-02</th>\n",
       "      <td>24414</td>\n",
       "      <td>Female</td>\n",
       "      <td>60</td>\n",
       "      <td>Richmond Hill</td>\n",
       "      <td>Richmond Hill</td>\n",
       "      <td>2020-02-29</td>\n",
       "      <td>Travel</td>\n",
       "      <td>Resolved</td>\n",
       "    </tr>\n",
       "    <tr>\n",
       "      <th>2020-03-03</th>\n",
       "      <td>24415</td>\n",
       "      <td>Female</td>\n",
       "      <td>70</td>\n",
       "      <td>Richmond Hill</td>\n",
       "      <td>Richmond Hill</td>\n",
       "      <td>2020-02-29</td>\n",
       "      <td>Travel</td>\n",
       "      <td>Resolved</td>\n",
       "    </tr>\n",
       "    <tr>\n",
       "      <th>2020-03-04</th>\n",
       "      <td>24416</td>\n",
       "      <td>Male</td>\n",
       "      <td>50</td>\n",
       "      <td>Vaughan</td>\n",
       "      <td>Maple</td>\n",
       "      <td>2020-02-27</td>\n",
       "      <td>Travel</td>\n",
       "      <td>Resolved</td>\n",
       "    </tr>\n",
       "    <tr>\n",
       "      <th>2020-03-04</th>\n",
       "      <td>24417</td>\n",
       "      <td>Male</td>\n",
       "      <td>40</td>\n",
       "      <td>Richmond Hill</td>\n",
       "      <td>Richmond Hill</td>\n",
       "      <td>2020-02-28</td>\n",
       "      <td>Travel</td>\n",
       "      <td>Resolved</td>\n",
       "    </tr>\n",
       "    <tr>\n",
       "      <th>...</th>\n",
       "      <td>...</td>\n",
       "      <td>...</td>\n",
       "      <td>...</td>\n",
       "      <td>...</td>\n",
       "      <td>...</td>\n",
       "      <td>...</td>\n",
       "      <td>...</td>\n",
       "      <td>...</td>\n",
       "    </tr>\n",
       "    <tr>\n",
       "      <th>2021-01-23</th>\n",
       "      <td>48753</td>\n",
       "      <td>Male</td>\n",
       "      <td>10</td>\n",
       "      <td>Richmond Hill</td>\n",
       "      <td>Richmond Hill</td>\n",
       "      <td>2021-01-21</td>\n",
       "      <td>Close Contact</td>\n",
       "      <td>Self-Isolating</td>\n",
       "    </tr>\n",
       "    <tr>\n",
       "      <th>2021-01-23</th>\n",
       "      <td>48754</td>\n",
       "      <td>Male</td>\n",
       "      <td>20</td>\n",
       "      <td>Georgina</td>\n",
       "      <td>Georgina</td>\n",
       "      <td>2021-01-21</td>\n",
       "      <td>Close Contact</td>\n",
       "      <td>Self-Isolating</td>\n",
       "    </tr>\n",
       "    <tr>\n",
       "      <th>2021-01-23</th>\n",
       "      <td>48755</td>\n",
       "      <td>Female</td>\n",
       "      <td>10</td>\n",
       "      <td>Markham</td>\n",
       "      <td>Markham</td>\n",
       "      <td>2021-01-22</td>\n",
       "      <td>Local Transmission</td>\n",
       "      <td>Self-Isolating</td>\n",
       "    </tr>\n",
       "    <tr>\n",
       "      <th>2021-01-23</th>\n",
       "      <td>48756</td>\n",
       "      <td>Male</td>\n",
       "      <td>30</td>\n",
       "      <td>Vaughan</td>\n",
       "      <td>Maple</td>\n",
       "      <td>2021-01-21</td>\n",
       "      <td>Under Investigation</td>\n",
       "      <td>Self-Isolating</td>\n",
       "    </tr>\n",
       "    <tr>\n",
       "      <th>2021-01-23</th>\n",
       "      <td>48757</td>\n",
       "      <td>Male</td>\n",
       "      <td>20</td>\n",
       "      <td>Vaughan</td>\n",
       "      <td>Woodbridge</td>\n",
       "      <td>2021-01-17</td>\n",
       "      <td>Local Transmission</td>\n",
       "      <td>Self-Isolating</td>\n",
       "    </tr>\n",
       "  </tbody>\n",
       "</table>\n",
       "<p>24345 rows × 8 columns</p>\n",
       "</div>"
      ],
      "text/plain": [
       "              CaseCount  Gender  AgeDecade   Municipality      Community  \\\n",
       "DateReported                                                               \n",
       "2020-02-29        24413  Female         30  Richmond Hill  Richmond Hill   \n",
       "2020-03-02        24414  Female         60  Richmond Hill  Richmond Hill   \n",
       "2020-03-03        24415  Female         70  Richmond Hill  Richmond Hill   \n",
       "2020-03-04        24416    Male         50        Vaughan          Maple   \n",
       "2020-03-04        24417    Male         40  Richmond Hill  Richmond Hill   \n",
       "...                 ...     ...        ...            ...            ...   \n",
       "2021-01-23        48753    Male         10  Richmond Hill  Richmond Hill   \n",
       "2021-01-23        48754    Male         20       Georgina       Georgina   \n",
       "2021-01-23        48755  Female         10        Markham        Markham   \n",
       "2021-01-23        48756    Male         30        Vaughan          Maple   \n",
       "2021-01-23        48757    Male         20        Vaughan     Woodbridge   \n",
       "\n",
       "             EstimatedDateofOnset          Acquisition          Status  \n",
       "DateReported                                                            \n",
       "2020-02-29             2020-02-27               Travel        Resolved  \n",
       "2020-03-02             2020-02-29               Travel        Resolved  \n",
       "2020-03-03             2020-02-29               Travel        Resolved  \n",
       "2020-03-04             2020-02-27               Travel        Resolved  \n",
       "2020-03-04             2020-02-28               Travel        Resolved  \n",
       "...                           ...                  ...             ...  \n",
       "2021-01-23             2021-01-21        Close Contact  Self-Isolating  \n",
       "2021-01-23             2021-01-21        Close Contact  Self-Isolating  \n",
       "2021-01-23             2021-01-22   Local Transmission  Self-Isolating  \n",
       "2021-01-23             2021-01-21  Under Investigation  Self-Isolating  \n",
       "2021-01-23             2021-01-17   Local Transmission  Self-Isolating  \n",
       "\n",
       "[24345 rows x 8 columns]"
      ]
     },
     "execution_count": 18,
     "metadata": {},
     "output_type": "execute_result"
    }
   ],
   "source": [
    "df"
   ]
  },
  {
   "cell_type": "code",
   "execution_count": 22,
   "metadata": {},
   "outputs": [
    {
     "data": {
      "text/plain": [
       "<AxesSubplot:xlabel='DateReported'>"
      ]
     },
     "execution_count": 22,
     "metadata": {},
     "output_type": "execute_result"
    },
    {
     "data": {
      "image/png": "[encoded data removed]",
      "text/plain": [
       "<Figure size 432x288 with 1 Axes>"
      ]
     },
     "metadata": {
      "needs_background": "light"
     },
     "output_type": "display_data"
    }
   ],
   "source": [
    "df.groupby('DateReported').Municipality.count().plot()"
   ]
  },
  {
   "cell_type": "markdown",
   "metadata": {},
   "source": [
    "### get Acquisition count for York Region"
   ]
  },
  {
   "cell_type": "code",
   "execution_count": 27,
   "metadata": {},
   "outputs": [
    {
     "data": {
      "text/plain": [
       "<AxesSubplot:xlabel='Acquisition'>"
      ]
     },
     "execution_count": 27,
     "metadata": {},
     "output_type": "execute_result"
    },
    {
     "data": {
      "image/png": "[encoded data removed]",
      "text/plain": [
       "<Figure size 432x288 with 1 Axes>"
      ]
     },
     "metadata": {
      "needs_background": "light"
     },
     "output_type": "display_data"
    }
   ],
   "source": [
    "df.groupby('Acquisition').Municipality.count().plot(kind='bar')"
   ]
  },
  {
   "cell_type": "markdown",
   "metadata": {},
   "source": [
    "### get unique values for a column"
   ]
  },
  {
   "cell_type": "code",
   "execution_count": 29,
   "metadata": {},
   "outputs": [
    {
     "data": {
      "text/plain": [
       "array(['Richmond Hill', 'Vaughan', 'Newmarket', 'Markham', 'Aurora',\n",
       "       'East Gwillimbury', 'Whitchurch-Stouffville', 'King', 'Georgina',\n",
       "       'Other'], dtype=object)"
      ]
     },
     "execution_count": 29,
     "metadata": {},
     "output_type": "execute_result"
    }
   ],
   "source": [
    "df.Municipality.unique()"
   ]
  },
  {
   "cell_type": "markdown",
   "metadata": {},
   "source": [
    "### get Acquisition count by Municipality"
   ]
  },
  {
   "cell_type": "code",
   "execution_count": 32,
   "metadata": {},
   "outputs": [
    {
     "data": {
      "text/plain": [
       "<AxesSubplot:title={'center':'King'}, xlabel='Acquisition'>"
      ]
     },
     "execution_count": 32,
     "metadata": {},
     "output_type": "execute_result"
    },
    {
     "data": {
      "image/png": "[encoded data removed]",
      "text/plain": [
       "<Figure size 1080x576 with 1 Axes>"
      ]
     },
     "metadata": {
      "needs_background": "light"
     },
     "output_type": "display_data"
    }
   ],
   "source": [
    "mun = 'King'\n",
    "df[df['Municipality']==mun].groupby('Acquisition').Municipality.count().plot(kind='bar', figsize=(15,8), title=mun)"
   ]
  }
 ],
 "metadata": {
  "kernelspec": {
   "display_name": "Python 3",
   "language": "python",
   "name": "python3"
  },
  "language_info": {
   "codemirror_mode": {
    "name": "ipython",
    "version": 3
   },
   "file_extension": ".py",
   "mimetype": "text/x-python",
   "name": "python",
   "nbconvert_exporter": "python",
   "pygments_lexer": "ipython3",
   "version": "3.8.5"
  }
 },
 "nbformat": 4,
 "nbformat_minor": 4
}
